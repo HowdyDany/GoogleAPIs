{
  "nbformat": 4,
  "nbformat_minor": 0,
  "metadata": {
    "colab": {
      "name": "DD_RE",
      "provenance": [],
      "authorship_tag": "ABX9TyNSuey6k+GDiCor4YsXiyGr",
      "include_colab_link": true
    },
    "kernelspec": {
      "name": "python3",
      "display_name": "Python 3"
    },
    "language_info": {
      "name": "python"
    }
  },
  "cells": [
    {
      "cell_type": "markdown",
      "metadata": {
        "id": "view-in-github",
        "colab_type": "text"
      },
      "source": [
        "<a href=\"https://colab.research.google.com/github/HowdyDany/GoogleSheetsAPI/blob/main/DD_RE.ipynb\" target=\"_parent\"><img src=\"https://colab.research.google.com/assets/colab-badge.svg\" alt=\"Open In Colab\"/></a>"
      ]
    },
    {
      "cell_type": "markdown",
      "source": [
        "Google Sheets Real Estate Daily Deals"
      ],
      "metadata": {
        "id": "F5zjh8PtUzqd"
      }
    },
    {
      "cell_type": "code",
      "source": [
        "# pip install gspread oauth2client"
      ],
      "metadata": {
        "id": "M4Lrm0xqfubO"
      },
      "execution_count": null,
      "outputs": []
    },
    {
      "cell_type": "code",
      "source": [
        "import gspread\n",
        "from oauth2client.service_account import ServiceAccountCredentials"
      ],
      "metadata": {
        "id": "nb_l_uiWf7mi"
      },
      "execution_count": 47,
      "outputs": []
    },
    {
      "cell_type": "code",
      "source": [
        "scope = [\"https://spreadsheets.google.com/feeds\",'https://www.googleapis.com/auth/spreadsheets',\"https://www.googleapis.com/auth/drive.file\",\"https://www.googleapis.com/auth/drive\"]"
      ],
      "metadata": {
        "id": "o7gqiNV3gL8L"
      },
      "execution_count": 48,
      "outputs": []
    },
    {
      "cell_type": "code",
      "source": [
        "creds = ServiceAccountCredentials.from_json_keyfile_name(\"tokens.json\", scope)\n",
        "client = gspread.authorize(creds)\n",
        "sheet = client.open('Daily Deals Real Estate').sheet1"
      ],
      "metadata": {
        "id": "GpsuNlMQgdun"
      },
      "execution_count": 51,
      "outputs": []
    },
    {
      "cell_type": "code",
      "source": [
        "data = sheet.get_all_records()\n",
        "# data"
      ],
      "metadata": {
        "id": "OqcHUYNeic81"
      },
      "execution_count": 52,
      "outputs": []
    },
    {
      "cell_type": "code",
      "source": [
        "def changeAddress(newAddress):\n",
        "  sheet.update_cell(2,2, newAddress)\n",
        "\n",
        "changeAddress(\"100 Baller Lane\")"
      ],
      "metadata": {
        "id": "ZvFj_smzjoWc"
      },
      "execution_count": 53,
      "outputs": []
    },
    {
      "cell_type": "code",
      "source": [
        "def changePrice(newPrice):\n",
        "  sheet.update_cell(3,2, newPrice)\n",
        "\n",
        "changePrice(100000)"
      ],
      "metadata": {
        "id": "OOtq0GfkplJI"
      },
      "execution_count": 54,
      "outputs": []
    },
    {
      "cell_type": "code",
      "source": [
        "def changeInsurance(newInsurance):\n",
        "  sheet.update_cell(4,2, newInsurance)\n",
        "\n",
        "changeInsurance(5000)"
      ],
      "metadata": {
        "id": "BP4Q3TFJqoIt"
      },
      "execution_count": 55,
      "outputs": []
    },
    {
      "cell_type": "code",
      "source": [
        "def changePropertyTax(newPropertyTax):\n",
        "  sheet.update_cell(5,2, newPropertyTax)\n",
        "\n",
        "changePropertyTax(5000)"
      ],
      "metadata": {
        "id": "TTWU874aqpVl"
      },
      "execution_count": 56,
      "outputs": []
    },
    {
      "cell_type": "code",
      "source": [
        "def changeRent(newRent):\n",
        "  sheet.update_cell(6,2,newRent)\n",
        "\n",
        "changeRent(1000)"
      ],
      "metadata": {
        "id": "r-p7AR7lrWQk"
      },
      "execution_count": 57,
      "outputs": []
    }
  ]
}